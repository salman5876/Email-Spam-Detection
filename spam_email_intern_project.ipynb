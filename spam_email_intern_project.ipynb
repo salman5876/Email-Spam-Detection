{
 "cells": [
  {
   "cell_type": "markdown",
   "id": "5de986bb-91b5-492f-85e6-fa5f895aad73",
   "metadata": {
    "id": "5de986bb-91b5-492f-85e6-fa5f895aad73"
   },
   "source": [
    "# SPAM EMAIL DETECTION"
   ]
  },
  {
   "cell_type": "markdown",
   "id": "dd381e06-08a6-4638-8557-c88e14bd551e",
   "metadata": {
    "id": "dd381e06-08a6-4638-8557-c88e14bd551e"
   },
   "source": [
    "## Working with dataset"
   ]
  },
  {
   "cell_type": "markdown",
   "id": "ec764f32-2bfe-497c-85db-bd4e59ac2ccc",
   "metadata": {
    "id": "ec764f32-2bfe-497c-85db-bd4e59ac2ccc"
   },
   "source": [
    "#### Note:\n",
    "###### in dataset gathering process i checked many of datasets related to spam email (from kaggle github etc..)\n",
    "###### from all of them i choose those two dataset but datasets are imbalance so i blanced both dataset first by reducing some rows\n",
    "###### (to minimize the impact of reduction to dataset i integrate two same type dataset)"
   ]
  },
  {
   "cell_type": "code",
   "execution_count": 1,
   "id": "0a73a5de-3a69-4d1a-957c-96389d80aeb8",
   "metadata": {
    "id": "0a73a5de-3a69-4d1a-957c-96389d80aeb8"
   },
   "outputs": [],
   "source": [
    "import pandas as pd"
   ]
  },
  {
   "cell_type": "markdown",
   "id": "4d21abae-7b28-48fa-992a-094ee306bc47",
   "metadata": {
    "id": "4d21abae-7b28-48fa-992a-094ee306bc47"
   },
   "source": [
    "#### Load dataset"
   ]
  },
  {
   "cell_type": "code",
   "execution_count": null,
   "id": "f234f62c-c5c1-472e-b702-0d3fde64429d",
   "metadata": {
    "id": "f234f62c-c5c1-472e-b702-0d3fde64429d"
   },
   "outputs": [],
   "source": [
    "# Dataset no 1\n",
    "dataset_1 = pd.read_csv('blanced dataset_1 .csv')"
   ]
  },
  {
   "cell_type": "code",
   "execution_count": null,
   "id": "e63d32ab-8aea-4cf0-a0ef-1f389d5fe24e",
   "metadata": {
    "id": "e63d32ab-8aea-4cf0-a0ef-1f389d5fe24e"
   },
   "outputs": [],
   "source": [
    "# Dataset no 2\n",
    "dataset_2 = pd.read_csv('blanced dataset_2 .csv')"
   ]
  },
  {
   "cell_type": "markdown",
   "id": "c0d7749f-9542-4c4d-a8e0-73d52a585cb5",
   "metadata": {
    "id": "c0d7749f-9542-4c4d-a8e0-73d52a585cb5"
   },
   "source": [
    "#### Dataset sample"
   ]
  },
  {
   "cell_type": "code",
   "execution_count": null,
   "id": "ebb8eda8-c492-41ee-bb0f-2bfb755ad10b",
   "metadata": {
    "id": "ebb8eda8-c492-41ee-bb0f-2bfb755ad10b",
    "outputId": "9ff4b257-40da-4733-ce94-1384c464f432"
   },
   "outputs": [
    {
     "data": {
      "text/html": [
       "<div>\n",
       "<style scoped>\n",
       "    .dataframe tbody tr th:only-of-type {\n",
       "        vertical-align: middle;\n",
       "    }\n",
       "\n",
       "    .dataframe tbody tr th {\n",
       "        vertical-align: top;\n",
       "    }\n",
       "\n",
       "    .dataframe thead th {\n",
       "        text-align: right;\n",
       "    }\n",
       "</style>\n",
       "<table border=\"1\" class=\"dataframe\">\n",
       "  <thead>\n",
       "    <tr style=\"text-align: right;\">\n",
       "      <th></th>\n",
       "      <th>text</th>\n",
       "      <th>label</th>\n",
       "    </tr>\n",
       "  </thead>\n",
       "  <tbody>\n",
       "    <tr>\n",
       "      <th>0</th>\n",
       "      <td>Subject: interview schedule for jinbaek kim  i...</td>\n",
       "      <td>0</td>\n",
       "    </tr>\n",
       "    <tr>\n",
       "      <th>1</th>\n",
       "      <td>Subject: re : wednesday meeting  eric ,  i thi...</td>\n",
       "      <td>0</td>\n",
       "    </tr>\n",
       "    <tr>\n",
       "      <th>2</th>\n",
       "      <td>Subject: re : london research group  i ' d do ...</td>\n",
       "      <td>0</td>\n",
       "    </tr>\n",
       "    <tr>\n",
       "      <th>3</th>\n",
       "      <td>Subject: re : congratulations  vince , thanks ...</td>\n",
       "      <td>0</td>\n",
       "    </tr>\n",
       "    <tr>\n",
       "      <th>4</th>\n",
       "      <td>Subject: osman sezgen  steve kromer is request...</td>\n",
       "      <td>0</td>\n",
       "    </tr>\n",
       "  </tbody>\n",
       "</table>\n",
       "</div>"
      ],
      "text/plain": [
       "                                                text  label\n",
       "0  Subject: interview schedule for jinbaek kim  i...      0\n",
       "1  Subject: re : wednesday meeting  eric ,  i thi...      0\n",
       "2  Subject: re : london research group  i ' d do ...      0\n",
       "3  Subject: re : congratulations  vince , thanks ...      0\n",
       "4  Subject: osman sezgen  steve kromer is request...      0"
      ]
     },
     "execution_count": 104,
     "metadata": {},
     "output_type": "execute_result"
    }
   ],
   "source": [
    "# Dataset no 1\n",
    "dataset_1.head()"
   ]
  },
  {
   "cell_type": "code",
   "execution_count": null,
   "id": "440cddcb-a6c2-42b7-b2bc-51781a419ea9",
   "metadata": {
    "id": "440cddcb-a6c2-42b7-b2bc-51781a419ea9",
    "outputId": "3ed0523d-0eb2-4f08-ca38-959dfa2eddcf"
   },
   "outputs": [
    {
     "data": {
      "text/html": [
       "<div>\n",
       "<style scoped>\n",
       "    .dataframe tbody tr th:only-of-type {\n",
       "        vertical-align: middle;\n",
       "    }\n",
       "\n",
       "    .dataframe tbody tr th {\n",
       "        vertical-align: top;\n",
       "    }\n",
       "\n",
       "    .dataframe thead th {\n",
       "        text-align: right;\n",
       "    }\n",
       "</style>\n",
       "<table border=\"1\" class=\"dataframe\">\n",
       "  <thead>\n",
       "    <tr style=\"text-align: right;\">\n",
       "      <th></th>\n",
       "      <th>text</th>\n",
       "      <th>label</th>\n",
       "    </tr>\n",
       "  </thead>\n",
       "  <tbody>\n",
       "    <tr>\n",
       "      <th>0</th>\n",
       "      <td>Subject: conoco - big cowboy\\r\\ndarren :\\r\\ni ...</td>\n",
       "      <td>0</td>\n",
       "    </tr>\n",
       "    <tr>\n",
       "      <th>1</th>\n",
       "      <td>Subject: feb 01 prod : sale to teco gas proces...</td>\n",
       "      <td>0</td>\n",
       "    </tr>\n",
       "    <tr>\n",
       "      <th>2</th>\n",
       "      <td>Subject: california energy crisis\\r\\ncaliforni...</td>\n",
       "      <td>0</td>\n",
       "    </tr>\n",
       "    <tr>\n",
       "      <th>3</th>\n",
       "      <td>Subject: re : nom / actual volume for april 23...</td>\n",
       "      <td>0</td>\n",
       "    </tr>\n",
       "    <tr>\n",
       "      <th>4</th>\n",
       "      <td>Subject: eastrans nomination changes effective...</td>\n",
       "      <td>0</td>\n",
       "    </tr>\n",
       "  </tbody>\n",
       "</table>\n",
       "</div>"
      ],
      "text/plain": [
       "                                                text  label\n",
       "0  Subject: conoco - big cowboy\\r\\ndarren :\\r\\ni ...      0\n",
       "1  Subject: feb 01 prod : sale to teco gas proces...      0\n",
       "2  Subject: california energy crisis\\r\\ncaliforni...      0\n",
       "3  Subject: re : nom / actual volume for april 23...      0\n",
       "4  Subject: eastrans nomination changes effective...      0"
      ]
     },
     "execution_count": 105,
     "metadata": {},
     "output_type": "execute_result"
    }
   ],
   "source": [
    "# Dataset no 2\n",
    "dataset_2.head()"
   ]
  },
  {
   "cell_type": "markdown",
   "id": "2067f0a5-5ce2-4cbd-a2fa-c3d234623b9a",
   "metadata": {
    "id": "2067f0a5-5ce2-4cbd-a2fa-c3d234623b9a"
   },
   "source": [
    "#### Dataset Structure"
   ]
  },
  {
   "cell_type": "code",
   "execution_count": null,
   "id": "841f8014-270c-4117-abba-5d01daf14a27",
   "metadata": {
    "id": "841f8014-270c-4117-abba-5d01daf14a27",
    "outputId": "bec3d0f5-aab3-4d39-89eb-95cd777355cd"
   },
   "outputs": [
    {
     "name": "stdout",
     "output_type": "stream",
     "text": [
      "(2700, 2)\n"
     ]
    }
   ],
   "source": [
    "# Dataset no 2\n",
    "print(dataset_1.shape)"
   ]
  },
  {
   "cell_type": "code",
   "execution_count": null,
   "id": "cb82008b-8b12-437b-bd9f-34177915c210",
   "metadata": {
    "id": "cb82008b-8b12-437b-bd9f-34177915c210",
    "outputId": "9892090f-c6d2-490e-8966-5771cf26e309"
   },
   "outputs": [
    {
     "name": "stdout",
     "output_type": "stream",
     "text": [
      "(2960, 2)\n"
     ]
    }
   ],
   "source": [
    "# Dataset no 2\n",
    "print(dataset_2.shape)"
   ]
  },
  {
   "cell_type": "markdown",
   "id": "f3d01f7c-13df-4e10-bb3d-69bab110d1f6",
   "metadata": {
    "id": "f3d01f7c-13df-4e10-bb3d-69bab110d1f6"
   },
   "source": [
    "#### Comparisan between spam and non spam email count"
   ]
  },
  {
   "cell_type": "code",
   "execution_count": null,
   "id": "6a7367fd-794f-4feb-9eb8-533bbede155e",
   "metadata": {
    "id": "6a7367fd-794f-4feb-9eb8-533bbede155e",
    "outputId": "32f998df-7865-40d9-d9bf-8723ea985efc"
   },
   "outputs": [
    {
     "name": "stdout",
     "output_type": "stream",
     "text": [
      "label\n",
      "0    1350\n",
      "1    1350\n",
      "Name: count, dtype: int64\n"
     ]
    }
   ],
   "source": [
    "# Dataset no 1\n",
    "print(dataset_1['label'].value_counts())"
   ]
  },
  {
   "cell_type": "code",
   "execution_count": null,
   "id": "4b8c5125-eb51-44aa-9b7d-4561209020e2",
   "metadata": {
    "id": "4b8c5125-eb51-44aa-9b7d-4561209020e2",
    "outputId": "6440bf2f-addf-42ca-8c7e-99e8af1eeebf"
   },
   "outputs": [
    {
     "name": "stdout",
     "output_type": "stream",
     "text": [
      "label\n",
      "0    1480\n",
      "1    1480\n",
      "Name: count, dtype: int64\n"
     ]
    }
   ],
   "source": [
    "# Dataset no 1\n",
    "print(dataset_2['label'].value_counts())"
   ]
  },
  {
   "cell_type": "markdown",
   "id": "95c12ca8-22a8-44ae-95b3-ac7b7ed15ce1",
   "metadata": {
    "id": "95c12ca8-22a8-44ae-95b3-ac7b7ed15ce1"
   },
   "source": [
    "### Integrate both Datasets"
   ]
  },
  {
   "cell_type": "code",
   "execution_count": null,
   "id": "b1dca0f5-bc86-4a2e-843f-43102bcafef3",
   "metadata": {
    "id": "b1dca0f5-bc86-4a2e-843f-43102bcafef3",
    "outputId": "c7af2009-6ca0-4c13-942e-be7f23b64644"
   },
   "outputs": [
    {
     "name": "stdout",
     "output_type": "stream",
     "text": [
      "Integrated dataset saved successfully.\n"
     ]
    }
   ],
   "source": [
    "# Concatenate both datasets\n",
    "integrated_dataset = pd.concat([dataset_1, dataset_2], ignore_index=True)\n",
    "\n",
    "integrated_dataset.to_csv('Email Spam Dataset.csv', index=False)\n",
    "print(\"Integrated dataset saved successfully.\")\n"
   ]
  },
  {
   "cell_type": "markdown",
   "id": "a8b3eafa-8fd6-450e-90e5-88a671849f22",
   "metadata": {
    "id": "a8b3eafa-8fd6-450e-90e5-88a671849f22"
   },
   "source": [
    "### Display the integrated dataset"
   ]
  },
  {
   "cell_type": "code",
   "execution_count": null,
   "id": "b5b8c9f7-9887-4738-9089-88b4058ea3c1",
   "metadata": {
    "id": "b5b8c9f7-9887-4738-9089-88b4058ea3c1"
   },
   "outputs": [],
   "source": [
    "dataset = pd.read_csv('Email Spam Dataset.csv')"
   ]
  },
  {
   "cell_type": "code",
   "execution_count": null,
   "id": "b6781509-b006-4c74-9807-311c21a1496e",
   "metadata": {
    "id": "b6781509-b006-4c74-9807-311c21a1496e",
    "outputId": "300177d1-e8a8-4cee-fdea-34aafe3ca514"
   },
   "outputs": [
    {
     "data": {
      "text/html": [
       "<div>\n",
       "<style scoped>\n",
       "    .dataframe tbody tr th:only-of-type {\n",
       "        vertical-align: middle;\n",
       "    }\n",
       "\n",
       "    .dataframe tbody tr th {\n",
       "        vertical-align: top;\n",
       "    }\n",
       "\n",
       "    .dataframe thead th {\n",
       "        text-align: right;\n",
       "    }\n",
       "</style>\n",
       "<table border=\"1\" class=\"dataframe\">\n",
       "  <thead>\n",
       "    <tr style=\"text-align: right;\">\n",
       "      <th></th>\n",
       "      <th>text</th>\n",
       "      <th>label</th>\n",
       "    </tr>\n",
       "  </thead>\n",
       "  <tbody>\n",
       "    <tr>\n",
       "      <th>0</th>\n",
       "      <td>Subject: interview schedule for jinbaek kim  i...</td>\n",
       "      <td>0</td>\n",
       "    </tr>\n",
       "    <tr>\n",
       "      <th>1</th>\n",
       "      <td>Subject: re : wednesday meeting  eric ,  i thi...</td>\n",
       "      <td>0</td>\n",
       "    </tr>\n",
       "    <tr>\n",
       "      <th>2</th>\n",
       "      <td>Subject: re : london research group  i ' d do ...</td>\n",
       "      <td>0</td>\n",
       "    </tr>\n",
       "    <tr>\n",
       "      <th>3</th>\n",
       "      <td>Subject: re : congratulations  vince , thanks ...</td>\n",
       "      <td>0</td>\n",
       "    </tr>\n",
       "    <tr>\n",
       "      <th>4</th>\n",
       "      <td>Subject: osman sezgen  steve kromer is request...</td>\n",
       "      <td>0</td>\n",
       "    </tr>\n",
       "    <tr>\n",
       "      <th>5</th>\n",
       "      <td>Subject: re : houston visit  soussan ,  thanks...</td>\n",
       "      <td>0</td>\n",
       "    </tr>\n",
       "    <tr>\n",
       "      <th>6</th>\n",
       "      <td>Subject: impending visit july 5 - 7  vince :  ...</td>\n",
       "      <td>0</td>\n",
       "    </tr>\n",
       "    <tr>\n",
       "      <th>7</th>\n",
       "      <td>Subject: re : the garp 2001 convention  andrea...</td>\n",
       "      <td>0</td>\n",
       "    </tr>\n",
       "    <tr>\n",
       "      <th>8</th>\n",
       "      <td>Subject: rtp project  vince ,  targetted confe...</td>\n",
       "      <td>0</td>\n",
       "    </tr>\n",
       "    <tr>\n",
       "      <th>9</th>\n",
       "      <td>Subject: re : houston visit  soussan ,  it see...</td>\n",
       "      <td>0</td>\n",
       "    </tr>\n",
       "  </tbody>\n",
       "</table>\n",
       "</div>"
      ],
      "text/plain": [
       "                                                text  label\n",
       "0  Subject: interview schedule for jinbaek kim  i...      0\n",
       "1  Subject: re : wednesday meeting  eric ,  i thi...      0\n",
       "2  Subject: re : london research group  i ' d do ...      0\n",
       "3  Subject: re : congratulations  vince , thanks ...      0\n",
       "4  Subject: osman sezgen  steve kromer is request...      0\n",
       "5  Subject: re : houston visit  soussan ,  thanks...      0\n",
       "6  Subject: impending visit july 5 - 7  vince :  ...      0\n",
       "7  Subject: re : the garp 2001 convention  andrea...      0\n",
       "8  Subject: rtp project  vince ,  targetted confe...      0\n",
       "9  Subject: re : houston visit  soussan ,  it see...      0"
      ]
     },
     "execution_count": 118,
     "metadata": {},
     "output_type": "execute_result"
    }
   ],
   "source": [
    "dataset.head(10)"
   ]
  },
  {
   "cell_type": "markdown",
   "id": "83a88e8e-9ed1-4889-9192-e5cc501b2c23",
   "metadata": {
    "id": "83a88e8e-9ed1-4889-9192-e5cc501b2c23"
   },
   "source": [
    "#### Dataset Structure"
   ]
  },
  {
   "cell_type": "code",
   "execution_count": null,
   "id": "bb5fd498-6f60-4c06-b9f5-bfcf7b3ce059",
   "metadata": {
    "id": "bb5fd498-6f60-4c06-b9f5-bfcf7b3ce059",
    "outputId": "c031bc0c-c368-4264-c63e-ab3eab3be256"
   },
   "outputs": [
    {
     "name": "stdout",
     "output_type": "stream",
     "text": [
      "(5660, 2)\n"
     ]
    }
   ],
   "source": [
    "print(dataset.shape)"
   ]
  },
  {
   "cell_type": "markdown",
   "id": "3f4841eb-d4b6-4771-8d94-ba9e597257ce",
   "metadata": {
    "id": "3f4841eb-d4b6-4771-8d94-ba9e597257ce"
   },
   "source": [
    "#### Comparisan between spam and non spam email count"
   ]
  },
  {
   "cell_type": "code",
   "execution_count": null,
   "id": "8a9210da-bd05-4149-9e16-6a0223053323",
   "metadata": {
    "id": "8a9210da-bd05-4149-9e16-6a0223053323",
    "outputId": "208fff52-6d26-436c-eb20-ee94cb29b182"
   },
   "outputs": [
    {
     "name": "stdout",
     "output_type": "stream",
     "text": [
      "label\n",
      "0    2830\n",
      "1    2830\n",
      "Name: count, dtype: int64\n"
     ]
    }
   ],
   "source": [
    "print(dataset['label'].value_counts())"
   ]
  },
  {
   "cell_type": "markdown",
   "id": "0a9fec11-e11b-4b52-8d86-be6497391f32",
   "metadata": {
    "id": "0a9fec11-e11b-4b52-8d86-be6497391f32"
   },
   "source": [
    "#### LABELS\n",
    "##### SPAM EMAILS = 1\n",
    "##### NON SPAM EMAILS = 0"
   ]
  },
  {
   "cell_type": "markdown",
   "id": "34a91ff7-5326-41eb-af80-abe8fbf09e8a",
   "metadata": {
    "id": "34a91ff7-5326-41eb-af80-abe8fbf09e8a"
   },
   "source": [
    "# Preprocessing"
   ]
  },
  {
   "cell_type": "markdown",
   "id": "c8c92754-4a42-43b2-8781-46dcfaad056b",
   "metadata": {
    "id": "c8c92754-4a42-43b2-8781-46dcfaad056b"
   },
   "source": [
    "### Checking Null values"
   ]
  },
  {
   "cell_type": "code",
   "execution_count": null,
   "id": "91c983bb-d1f5-4803-b7a0-58c3d72a56da",
   "metadata": {
    "id": "91c983bb-d1f5-4803-b7a0-58c3d72a56da",
    "outputId": "12462dba-940d-416c-867f-7170095c5a4d"
   },
   "outputs": [
    {
     "name": "stdout",
     "output_type": "stream",
     "text": [
      "Null values:\n",
      " text     0\n",
      "label    0\n",
      "dtype: int64\n"
     ]
    }
   ],
   "source": [
    "null_values = dataset.isnull().sum()\n",
    "print(\"Null values:\\n\", null_values)"
   ]
  },
  {
   "cell_type": "markdown",
   "id": "f4142d63-279c-437a-b607-bdc406a9d608",
   "metadata": {
    "id": "f4142d63-279c-437a-b607-bdc406a9d608"
   },
   "source": [
    "### Lowercasing"
   ]
  },
  {
   "cell_type": "code",
   "execution_count": null,
   "id": "5a70b951-00b9-4e1e-b87a-5a18b57f2bd4",
   "metadata": {
    "id": "5a70b951-00b9-4e1e-b87a-5a18b57f2bd4"
   },
   "outputs": [],
   "source": [
    "dataset['text'] = dataset['text'].str.lower()"
   ]
  },
  {
   "cell_type": "code",
   "execution_count": null,
   "id": "1da0dbe6-8095-4d6d-9f4a-572e20bc5f36",
   "metadata": {
    "id": "1da0dbe6-8095-4d6d-9f4a-572e20bc5f36",
    "outputId": "2838fda8-dfde-43be-8dfd-7d9c14c05572"
   },
   "outputs": [
    {
     "data": {
      "text/html": [
       "<div>\n",
       "<style scoped>\n",
       "    .dataframe tbody tr th:only-of-type {\n",
       "        vertical-align: middle;\n",
       "    }\n",
       "\n",
       "    .dataframe tbody tr th {\n",
       "        vertical-align: top;\n",
       "    }\n",
       "\n",
       "    .dataframe thead th {\n",
       "        text-align: right;\n",
       "    }\n",
       "</style>\n",
       "<table border=\"1\" class=\"dataframe\">\n",
       "  <thead>\n",
       "    <tr style=\"text-align: right;\">\n",
       "      <th></th>\n",
       "      <th>text</th>\n",
       "      <th>label</th>\n",
       "    </tr>\n",
       "  </thead>\n",
       "  <tbody>\n",
       "    <tr>\n",
       "      <th>0</th>\n",
       "      <td>subject: interview schedule for jinbaek kim  i...</td>\n",
       "      <td>0</td>\n",
       "    </tr>\n",
       "    <tr>\n",
       "      <th>1</th>\n",
       "      <td>subject: re : wednesday meeting  eric ,  i thi...</td>\n",
       "      <td>0</td>\n",
       "    </tr>\n",
       "    <tr>\n",
       "      <th>2</th>\n",
       "      <td>subject: re : london research group  i ' d do ...</td>\n",
       "      <td>0</td>\n",
       "    </tr>\n",
       "    <tr>\n",
       "      <th>3</th>\n",
       "      <td>subject: re : congratulations  vince , thanks ...</td>\n",
       "      <td>0</td>\n",
       "    </tr>\n",
       "    <tr>\n",
       "      <th>4</th>\n",
       "      <td>subject: osman sezgen  steve kromer is request...</td>\n",
       "      <td>0</td>\n",
       "    </tr>\n",
       "  </tbody>\n",
       "</table>\n",
       "</div>"
      ],
      "text/plain": [
       "                                                text  label\n",
       "0  subject: interview schedule for jinbaek kim  i...      0\n",
       "1  subject: re : wednesday meeting  eric ,  i thi...      0\n",
       "2  subject: re : london research group  i ' d do ...      0\n",
       "3  subject: re : congratulations  vince , thanks ...      0\n",
       "4  subject: osman sezgen  steve kromer is request...      0"
      ]
     },
     "execution_count": 123,
     "metadata": {},
     "output_type": "execute_result"
    }
   ],
   "source": [
    "dataset.head()"
   ]
  },
  {
   "cell_type": "markdown",
   "id": "4ee7946e-7761-4de6-820b-c9d611f39a74",
   "metadata": {
    "id": "4ee7946e-7761-4de6-820b-c9d611f39a74"
   },
   "source": [
    "### Tokenization (assuming whitespace tokenization)"
   ]
  },
  {
   "cell_type": "code",
   "execution_count": null,
   "id": "253b5fe1-df38-4078-b57f-3fe61a86a4f2",
   "metadata": {
    "id": "253b5fe1-df38-4078-b57f-3fe61a86a4f2"
   },
   "outputs": [],
   "source": [
    "dataset['text'] = dataset['text'].apply(lambda x: x.split())"
   ]
  },
  {
   "cell_type": "code",
   "execution_count": null,
   "id": "5407f5c3-dc61-4dab-96e8-00def7a3c4d0",
   "metadata": {
    "id": "5407f5c3-dc61-4dab-96e8-00def7a3c4d0",
    "outputId": "41bc0d91-b5fd-4280-e893-18d0b32b24fe"
   },
   "outputs": [
    {
     "data": {
      "text/html": [
       "<div>\n",
       "<style scoped>\n",
       "    .dataframe tbody tr th:only-of-type {\n",
       "        vertical-align: middle;\n",
       "    }\n",
       "\n",
       "    .dataframe tbody tr th {\n",
       "        vertical-align: top;\n",
       "    }\n",
       "\n",
       "    .dataframe thead th {\n",
       "        text-align: right;\n",
       "    }\n",
       "</style>\n",
       "<table border=\"1\" class=\"dataframe\">\n",
       "  <thead>\n",
       "    <tr style=\"text-align: right;\">\n",
       "      <th></th>\n",
       "      <th>text</th>\n",
       "      <th>label</th>\n",
       "    </tr>\n",
       "  </thead>\n",
       "  <tbody>\n",
       "    <tr>\n",
       "      <th>0</th>\n",
       "      <td>[subject:, interview, schedule, for, jinbaek, ...</td>\n",
       "      <td>0</td>\n",
       "    </tr>\n",
       "    <tr>\n",
       "      <th>1</th>\n",
       "      <td>[subject:, re, :, wednesday, meeting, eric, ,,...</td>\n",
       "      <td>0</td>\n",
       "    </tr>\n",
       "    <tr>\n",
       "      <th>2</th>\n",
       "      <td>[subject:, re, :, london, research, group, i, ...</td>\n",
       "      <td>0</td>\n",
       "    </tr>\n",
       "    <tr>\n",
       "      <th>3</th>\n",
       "      <td>[subject:, re, :, congratulations, vince, ,, t...</td>\n",
       "      <td>0</td>\n",
       "    </tr>\n",
       "    <tr>\n",
       "      <th>4</th>\n",
       "      <td>[subject:, osman, sezgen, steve, kromer, is, r...</td>\n",
       "      <td>0</td>\n",
       "    </tr>\n",
       "  </tbody>\n",
       "</table>\n",
       "</div>"
      ],
      "text/plain": [
       "                                                text  label\n",
       "0  [subject:, interview, schedule, for, jinbaek, ...      0\n",
       "1  [subject:, re, :, wednesday, meeting, eric, ,,...      0\n",
       "2  [subject:, re, :, london, research, group, i, ...      0\n",
       "3  [subject:, re, :, congratulations, vince, ,, t...      0\n",
       "4  [subject:, osman, sezgen, steve, kromer, is, r...      0"
      ]
     },
     "execution_count": 125,
     "metadata": {},
     "output_type": "execute_result"
    }
   ],
   "source": [
    "dataset.head()"
   ]
  },
  {
   "cell_type": "markdown",
   "id": "29d59016-b7ac-4575-8053-126db70003e0",
   "metadata": {
    "id": "29d59016-b7ac-4575-8053-126db70003e0"
   },
   "source": [
    "### Removing Punctuation"
   ]
  },
  {
   "cell_type": "code",
   "execution_count": null,
   "id": "43f7bd71-e927-4c4d-b5fe-2373b79f4ff3",
   "metadata": {
    "id": "43f7bd71-e927-4c4d-b5fe-2373b79f4ff3"
   },
   "outputs": [],
   "source": [
    "import string\n",
    "dataset['text'] = dataset['text'].apply(lambda x: [word.translate(str.maketrans('', '', string.punctuation)) for word in x])"
   ]
  },
  {
   "cell_type": "code",
   "execution_count": null,
   "id": "e55cd64a-8514-4bd9-9fd1-52465085a103",
   "metadata": {
    "id": "e55cd64a-8514-4bd9-9fd1-52465085a103",
    "outputId": "46b0b7a0-df64-4d87-ac5b-a91e2512c7f9"
   },
   "outputs": [
    {
     "data": {
      "text/html": [
       "<div>\n",
       "<style scoped>\n",
       "    .dataframe tbody tr th:only-of-type {\n",
       "        vertical-align: middle;\n",
       "    }\n",
       "\n",
       "    .dataframe tbody tr th {\n",
       "        vertical-align: top;\n",
       "    }\n",
       "\n",
       "    .dataframe thead th {\n",
       "        text-align: right;\n",
       "    }\n",
       "</style>\n",
       "<table border=\"1\" class=\"dataframe\">\n",
       "  <thead>\n",
       "    <tr style=\"text-align: right;\">\n",
       "      <th></th>\n",
       "      <th>text</th>\n",
       "      <th>label</th>\n",
       "    </tr>\n",
       "  </thead>\n",
       "  <tbody>\n",
       "    <tr>\n",
       "      <th>0</th>\n",
       "      <td>[subject, interview, schedule, for, jinbaek, k...</td>\n",
       "      <td>0</td>\n",
       "    </tr>\n",
       "    <tr>\n",
       "      <th>1</th>\n",
       "      <td>[subject, re, , wednesday, meeting, eric, , i,...</td>\n",
       "      <td>0</td>\n",
       "    </tr>\n",
       "    <tr>\n",
       "      <th>2</th>\n",
       "      <td>[subject, re, , london, research, group, i, , ...</td>\n",
       "      <td>0</td>\n",
       "    </tr>\n",
       "    <tr>\n",
       "      <th>3</th>\n",
       "      <td>[subject, re, , congratulations, vince, , than...</td>\n",
       "      <td>0</td>\n",
       "    </tr>\n",
       "    <tr>\n",
       "      <th>4</th>\n",
       "      <td>[subject, osman, sezgen, steve, kromer, is, re...</td>\n",
       "      <td>0</td>\n",
       "    </tr>\n",
       "  </tbody>\n",
       "</table>\n",
       "</div>"
      ],
      "text/plain": [
       "                                                text  label\n",
       "0  [subject, interview, schedule, for, jinbaek, k...      0\n",
       "1  [subject, re, , wednesday, meeting, eric, , i,...      0\n",
       "2  [subject, re, , london, research, group, i, , ...      0\n",
       "3  [subject, re, , congratulations, vince, , than...      0\n",
       "4  [subject, osman, sezgen, steve, kromer, is, re...      0"
      ]
     },
     "execution_count": 127,
     "metadata": {},
     "output_type": "execute_result"
    }
   ],
   "source": [
    "dataset.head()"
   ]
  },
  {
   "cell_type": "markdown",
   "id": "984e1f64-1174-4712-9c14-d30b349945a0",
   "metadata": {
    "id": "984e1f64-1174-4712-9c14-d30b349945a0"
   },
   "source": [
    "### Removing Stopwords"
   ]
  },
  {
   "cell_type": "code",
   "execution_count": null,
   "id": "c737f379-da39-40d7-845d-3fe534ef208b",
   "metadata": {
    "id": "c737f379-da39-40d7-845d-3fe534ef208b"
   },
   "outputs": [],
   "source": [
    "from nltk.corpus import stopwords\n",
    "stop_words = set(stopwords.words('english'))\n",
    "dataset['text'] = dataset['text'].apply(lambda x: [word for word in x if word not in stop_words])"
   ]
  },
  {
   "cell_type": "code",
   "execution_count": null,
   "id": "0ae50b9c-4e5b-4695-a070-ddded3be704a",
   "metadata": {
    "id": "0ae50b9c-4e5b-4695-a070-ddded3be704a",
    "outputId": "59a1789f-8806-4640-f1ac-70dc40f4026a"
   },
   "outputs": [
    {
     "data": {
      "text/html": [
       "<div>\n",
       "<style scoped>\n",
       "    .dataframe tbody tr th:only-of-type {\n",
       "        vertical-align: middle;\n",
       "    }\n",
       "\n",
       "    .dataframe tbody tr th {\n",
       "        vertical-align: top;\n",
       "    }\n",
       "\n",
       "    .dataframe thead th {\n",
       "        text-align: right;\n",
       "    }\n",
       "</style>\n",
       "<table border=\"1\" class=\"dataframe\">\n",
       "  <thead>\n",
       "    <tr style=\"text-align: right;\">\n",
       "      <th></th>\n",
       "      <th>text</th>\n",
       "      <th>label</th>\n",
       "    </tr>\n",
       "  </thead>\n",
       "  <tbody>\n",
       "    <tr>\n",
       "      <th>0</th>\n",
       "      <td>[subject, interview, schedule, jinbaek, kim, ,...</td>\n",
       "      <td>0</td>\n",
       "    </tr>\n",
       "    <tr>\n",
       "      <th>1</th>\n",
       "      <td>[subject, , wednesday, meeting, eric, , think,...</td>\n",
       "      <td>0</td>\n",
       "    </tr>\n",
       "    <tr>\n",
       "      <th>2</th>\n",
       "      <td>[subject, , london, research, group, , soon, p...</td>\n",
       "      <td>0</td>\n",
       "    </tr>\n",
       "    <tr>\n",
       "      <th>3</th>\n",
       "      <td>[subject, , congratulations, vince, , thanks, ...</td>\n",
       "      <td>0</td>\n",
       "    </tr>\n",
       "    <tr>\n",
       "      <th>4</th>\n",
       "      <td>[subject, osman, sezgen, steve, kromer, reques...</td>\n",
       "      <td>0</td>\n",
       "    </tr>\n",
       "  </tbody>\n",
       "</table>\n",
       "</div>"
      ],
      "text/plain": [
       "                                                text  label\n",
       "0  [subject, interview, schedule, jinbaek, kim, ,...      0\n",
       "1  [subject, , wednesday, meeting, eric, , think,...      0\n",
       "2  [subject, , london, research, group, , soon, p...      0\n",
       "3  [subject, , congratulations, vince, , thanks, ...      0\n",
       "4  [subject, osman, sezgen, steve, kromer, reques...      0"
      ]
     },
     "execution_count": 131,
     "metadata": {},
     "output_type": "execute_result"
    }
   ],
   "source": [
    "dataset.head()"
   ]
  },
  {
   "cell_type": "markdown",
   "id": "07d06abb-866a-439b-9c08-0a704dc3422b",
   "metadata": {
    "id": "07d06abb-866a-439b-9c08-0a704dc3422b"
   },
   "source": [
    "### Save preprocessed"
   ]
  },
  {
   "cell_type": "code",
   "execution_count": null,
   "id": "9ad432ac-95b0-4821-b830-2927507a1abe",
   "metadata": {
    "id": "9ad432ac-95b0-4821-b830-2927507a1abe",
    "outputId": "974b7b52-e07a-4d5d-910a-6814933277a0"
   },
   "outputs": [
    {
     "name": "stdout",
     "output_type": "stream",
     "text": [
      "preprocessed dataset saved successfully.\n"
     ]
    }
   ],
   "source": [
    "dataset.to_csv('Spam email preprocessed datset.csv', index=False)\n",
    "print(\"preprocessed dataset saved successfully.\")"
   ]
  },
  {
   "cell_type": "code",
   "execution_count": 16,
   "id": "6da8d29a-5027-4f6f-9ab0-05641f396d4f",
   "metadata": {
    "id": "6da8d29a-5027-4f6f-9ab0-05641f396d4f"
   },
   "outputs": [],
   "source": [
    "dataset= pd.read_csv('Spam email preprocessed datset.csv')"
   ]
  },
  {
   "cell_type": "code",
   "execution_count": null,
   "id": "e8ed6d81-39ef-450d-bc46-0f969da3a9a8",
   "metadata": {
    "colab": {
     "base_uri": "https://localhost:8080/",
     "height": 206
    },
    "id": "e8ed6d81-39ef-450d-bc46-0f969da3a9a8",
    "outputId": "ba581467-7cd2-4542-8c17-ded710afab08"
   },
   "outputs": [
    {
     "data": {
      "text/html": [
       "<div>\n",
       "<style scoped>\n",
       "    .dataframe tbody tr th:only-of-type {\n",
       "        vertical-align: middle;\n",
       "    }\n",
       "\n",
       "    .dataframe tbody tr th {\n",
       "        vertical-align: top;\n",
       "    }\n",
       "\n",
       "    .dataframe thead th {\n",
       "        text-align: right;\n",
       "    }\n",
       "</style>\n",
       "<table border=\"1\" class=\"dataframe\">\n",
       "  <thead>\n",
       "    <tr style=\"text-align: right;\">\n",
       "      <th></th>\n",
       "      <th>text</th>\n",
       "      <th>label</th>\n",
       "    </tr>\n",
       "  </thead>\n",
       "  <tbody>\n",
       "    <tr>\n",
       "      <th>0</th>\n",
       "      <td>['subject', 'interview', 'schedule', 'jinbaek'...</td>\n",
       "      <td>0</td>\n",
       "    </tr>\n",
       "    <tr>\n",
       "      <th>1</th>\n",
       "      <td>['subject', '', 'wednesday', 'meeting', 'eric'...</td>\n",
       "      <td>0</td>\n",
       "    </tr>\n",
       "    <tr>\n",
       "      <th>2</th>\n",
       "      <td>['subject', '', 'london', 'research', 'group',...</td>\n",
       "      <td>0</td>\n",
       "    </tr>\n",
       "    <tr>\n",
       "      <th>3</th>\n",
       "      <td>['subject', '', 'congratulations', 'vince', ''...</td>\n",
       "      <td>0</td>\n",
       "    </tr>\n",
       "    <tr>\n",
       "      <th>4</th>\n",
       "      <td>['subject', 'osman', 'sezgen', 'steve', 'krome...</td>\n",
       "      <td>0</td>\n",
       "    </tr>\n",
       "  </tbody>\n",
       "</table>\n",
       "</div>"
      ],
      "text/plain": [
       "                                                text  label\n",
       "0  ['subject', 'interview', 'schedule', 'jinbaek'...      0\n",
       "1  ['subject', '', 'wednesday', 'meeting', 'eric'...      0\n",
       "2  ['subject', '', 'london', 'research', 'group',...      0\n",
       "3  ['subject', '', 'congratulations', 'vince', ''...      0\n",
       "4  ['subject', 'osman', 'sezgen', 'steve', 'krome...      0"
      ]
     },
     "execution_count": 13,
     "metadata": {},
     "output_type": "execute_result"
    }
   ],
   "source": [
    "dataset.head()"
   ]
  },
  {
   "cell_type": "markdown",
   "id": "cf393a7b-dae9-4ed8-9213-6982cdd81777",
   "metadata": {
    "id": "cf393a7b-dae9-4ed8-9213-6982cdd81777"
   },
   "source": [
    "## Spliting dataset in test and train"
   ]
  },
  {
   "cell_type": "code",
   "execution_count": 34,
   "id": "156f5474-d369-497e-b0dd-575ea691f677",
   "metadata": {
    "colab": {
     "base_uri": "https://localhost:8080/"
    },
    "id": "156f5474-d369-497e-b0dd-575ea691f677",
    "outputId": "2846399e-4ecc-4a26-a138-151da5dcf45a"
   },
   "outputs": [
    {
     "name": "stdout",
     "output_type": "stream",
     "text": [
      "Training set shape: (4528,) (4528,)\n",
      "Testing set shape: (1132,) (1132,)\n"
     ]
    }
   ],
   "source": [
    "from sklearn.model_selection import train_test_split\n",
    "\n",
    "X = dataset['text']\n",
    "y = dataset['label']\n",
    "\n",
    "# Split the dataset into training and testing (80% train, 20% test)\n",
    "X_train, X_test, y_train, y_test = train_test_split(X, y, test_size=0.2, random_state=42)\n",
    "\n",
    "print(\"Training set shape:\", X_train.shape, y_train.shape)\n",
    "print(\"Testing set shape:\", X_test.shape, y_test.shape)\n"
   ]
  },
  {
   "cell_type": "markdown",
   "id": "c637f486-fc7c-46d0-a485-1838f6547237",
   "metadata": {
    "id": "c637f486-fc7c-46d0-a485-1838f6547237"
   },
   "source": [
    "# MODEL TRAINING"
   ]
  },
  {
   "cell_type": "markdown",
   "id": "b589f7e0-de1b-40bd-b5a3-e13acc8bb873",
   "metadata": {
    "id": "b589f7e0-de1b-40bd-b5a3-e13acc8bb873"
   },
   "source": [
    "### Multinomial Naive Bayes"
   ]
  },
  {
   "cell_type": "code",
   "execution_count": 18,
   "id": "a1b093b2-d8e3-46d0-ae2e-cfd1d2ea7581",
   "metadata": {
    "colab": {
     "base_uri": "https://localhost:8080/"
    },
    "id": "a1b093b2-d8e3-46d0-ae2e-cfd1d2ea7581",
    "outputId": "433d4b51-669e-4d28-bde9-3c7ba84fd314"
   },
   "outputs": [
    {
     "name": "stdout",
     "output_type": "stream",
     "text": [
      "Accuracy: 0.9779151943462897\n",
      "\n",
      "Classification Report:\n",
      "              precision    recall  f1-score   support\n",
      "\n",
      "           0       0.98      0.98      0.98       580\n",
      "           1       0.97      0.98      0.98       552\n",
      "\n",
      "    accuracy                           0.98      1132\n",
      "   macro avg       0.98      0.98      0.98      1132\n",
      "weighted avg       0.98      0.98      0.98      1132\n",
      "\n"
     ]
    }
   ],
   "source": [
    "from sklearn.feature_extraction.text import CountVectorizer\n",
    "from sklearn.naive_bayes import MultinomialNB\n",
    "from sklearn.metrics import accuracy_score, classification_report\n",
    "\n",
    "vectorizer = CountVectorizer()\n",
    "X_train_vec = vectorizer.fit_transform(X_train)\n",
    "X_test_vec = vectorizer.transform(X_test)\n",
    "\n",
    "nb_model = MultinomialNB()\n",
    "nb_model.fit(X_train_vec, y_train)\n",
    "\n",
    "y_pred = nb_model.predict(X_test_vec)\n",
    "\n",
    "accuracy = accuracy_score(y_test, y_pred)\n",
    "print(\"Accuracy:\", accuracy)\n",
    "print(\"\\nClassification Report:\")\n",
    "print(classification_report(y_test, y_pred))\n"
   ]
  },
  {
   "cell_type": "markdown",
   "id": "de0dc35f-985a-49a6-97a6-84fe3cd13edf",
   "metadata": {
    "id": "de0dc35f-985a-49a6-97a6-84fe3cd13edf"
   },
   "source": [
    "### save trained model"
   ]
  },
  {
   "cell_type": "code",
   "execution_count": 19,
   "id": "27fedfef-46b6-4730-aa1e-97c9726957c9",
   "metadata": {
    "id": "27fedfef-46b6-4730-aa1e-97c9726957c9"
   },
   "outputs": [],
   "source": [
    "import pickle\n",
    "\n",
    "with open('nb_model.pkl', 'wb') as file:\n",
    "    pickle.dump(nb_model, file)"
   ]
  },
  {
   "cell_type": "markdown",
   "id": "06d419dc-adec-482c-ae9c-36ce756cec96",
   "metadata": {
    "id": "06d419dc-adec-482c-ae9c-36ce756cec96"
   },
   "source": [
    "### Testing model on text"
   ]
  },
  {
   "cell_type": "markdown",
   "id": "54790328-419f-4922-a775-b3ad39915b32",
   "metadata": {},
   "source": [
    "##### Now i testing the model on email from my own spam box  "
   ]
  },
  {
   "cell_type": "code",
   "execution_count": 35,
   "id": "83840c25-45c0-41bd-abd7-88367ace0a0d",
   "metadata": {
    "colab": {
     "base_uri": "https://localhost:8080/"
    },
    "id": "83840c25-45c0-41bd-abd7-88367ace0a0d",
    "outputId": "f99c90c7-2f9e-4ba0-bb9b-bbc3666c50ac"
   },
   "outputs": [
    {
     "name": "stdout",
     "output_type": "stream",
     "text": [
      "The text is predicted to be spam.\n"
     ]
    }
   ],
   "source": [
    "import pickle\n",
    "from sklearn.feature_extraction.text import CountVectorizer\n",
    "\n",
    "with open('nb_model.pkl', 'rb') as file:\n",
    "    loaded_model = pickle.load(file)\n",
    "\n",
    "text = [\"Keep an eye out for more contests\"]\n",
    "\n",
    "vectorizer = CountVectorizer()\n",
    "vectorizer.fit(X_train)\n",
    "\n",
    "text_vec = vectorizer.transform(text)\n",
    "\n",
    "# Use the loaded model to make predictions\n",
    "prediction = loaded_model.predict(text_vec)\n",
    "\n",
    "# Print the prediction\n",
    "if prediction[0] == 1:\n",
    "    print(\"The text is predicted to be spam.\")\n",
    "else:\n",
    "    print(\"The text is predicted to be not spam.\")\n"
   ]
  },
  {
   "cell_type": "markdown",
   "id": "bd189768-9447-4e26-bcac-f0b14c16c18c",
   "metadata": {
    "id": "bd189768-9447-4e26-bcac-f0b14c16c18c"
   },
   "source": [
    "### LSTM Neural Network"
   ]
  },
  {
   "cell_type": "code",
   "execution_count": 24,
   "id": "07609198-d523-4c8f-85af-210863ab3796",
   "metadata": {
    "id": "07609198-d523-4c8f-85af-210863ab3796"
   },
   "outputs": [],
   "source": [
    "import numpy as np\n",
    "from tensorflow.keras.models import Sequential\n",
    "from tensorflow.keras.layers import LSTM, Dense, Embedding\n",
    "from tensorflow.keras.preprocessing.text import Tokenizer\n",
    "from tensorflow.keras.preprocessing.sequence import pad_sequences\n",
    "from sklearn.model_selection import train_test_split"
   ]
  },
  {
   "cell_type": "code",
   "execution_count": 25,
   "id": "00f48eee-0bc7-48b6-9c13-f5864808d970",
   "metadata": {
    "id": "00f48eee-0bc7-48b6-9c13-f5864808d970"
   },
   "outputs": [],
   "source": [
    "dataset= pd.read_csv('Spam email preprocessed datset.csv')\n",
    "text_data = dataset['text'].values\n",
    "labels = dataset['label'].values"
   ]
  },
  {
   "cell_type": "code",
   "execution_count": 26,
   "id": "ac4c98cd-4cb7-4979-b720-cc2684c6db3b",
   "metadata": {
    "id": "ac4c98cd-4cb7-4979-b720-cc2684c6db3b"
   },
   "outputs": [],
   "source": [
    "tokenizer = Tokenizer()\n",
    "tokenizer.fit_on_texts(text_data)\n",
    "encoded_docs = tokenizer.texts_to_sequences(text_data)"
   ]
  },
  {
   "cell_type": "code",
   "execution_count": 27,
   "id": "c3564b70-db35-4d8a-8e2b-9dec31486c2c",
   "metadata": {
    "id": "c3564b70-db35-4d8a-8e2b-9dec31486c2c"
   },
   "outputs": [],
   "source": [
    "max_length = max([len(doc) for doc in encoded_docs])\n",
    "padded_docs = pad_sequences(encoded_docs, maxlen=max_length, padding='post')\n",
    "\n",
    "vocab_size = len(tokenizer.word_index) + 1"
   ]
  },
  {
   "cell_type": "code",
   "execution_count": 28,
   "id": "47920240-ab79-464b-b671-b63f10fe2134",
   "metadata": {
    "id": "47920240-ab79-464b-b671-b63f10fe2134"
   },
   "outputs": [],
   "source": [
    "X_train, X_test, y_train, y_test = train_test_split(padded_docs, labels, test_size=0.2, random_state=42)"
   ]
  },
  {
   "cell_type": "code",
   "execution_count": 29,
   "id": "7fc78c19-8f24-4399-afbf-1937a38e0d78",
   "metadata": {
    "id": "7fc78c19-8f24-4399-afbf-1937a38e0d78"
   },
   "outputs": [],
   "source": [
    "model = Sequential()\n",
    "model.add(Embedding(input_dim=vocab_size, output_dim=100))\n",
    "model.add(LSTM(units=50, dropout=0.2))  # Removed recurrent_dropout\n",
    "model.add(Dense(1, activation='sigmoid'))"
   ]
  },
  {
   "cell_type": "code",
   "execution_count": 1,
   "id": "37f7598e-64a9-40d3-a5df-aa3ef4b56098",
   "metadata": {
    "colab": {
     "base_uri": "https://localhost:8080/"
    },
    "id": "37f7598e-64a9-40d3-a5df-aa3ef4b56098",
    "outputId": "31ffe6db-3073-4696-aed0-73235682d2ec"
   },
   "outputs": [],
   "source": [
    "model.compile(optimizer='adam', loss='binary_crossentropy', metrics=['accuracy'])\n",
    "\n",
    "model.fit(X_train, y_train, epochs=10, batch_size=64)"
   ]
  },
  {
   "cell_type": "code",
   "execution_count": 2,
   "id": "f843d9f6-d530-4a33-9762-ecdc4bfefae3",
   "metadata": {
    "colab": {
     "base_uri": "https://localhost:8080/"
    },
    "id": "f843d9f6-d530-4a33-9762-ecdc4bfefae3",
    "outputId": "180f913f-03c5-470a-ef6c-d07e1f8cf63f"
   },
   "outputs": [],
   "source": [
    "loss, accuracy = model.evaluate(X_test, y_test)"
   ]
  },
  {
   "cell_type": "code",
   "execution_count": null,
   "id": "75b82fdc-8960-46a3-bb2f-e4182ced90ba",
   "metadata": {
    "colab": {
     "base_uri": "https://localhost:8080/"
    },
    "id": "75b82fdc-8960-46a3-bb2f-e4182ced90ba",
    "outputId": "a47a3e82-f96e-42d7-c31b-8851e7506aeb"
   },
   "outputs": [
    {
     "name": "stdout",
     "output_type": "stream",
     "text": [
      "Epoch 1/10\n",
      "71/71 [==============================] - 23s 300ms/step - loss: 0.4976 - accuracy: 0.6941\n",
      "Epoch 2/10\n",
      "71/71 [==============================] - 21s 294ms/step - loss: 0.4176 - accuracy: 0.7154\n",
      "Epoch 3/10\n",
      "71/71 [==============================] - 20s 281ms/step - loss: 0.3976 - accuracy: 0.7842\n",
      "Epoch 4/10\n",
      "71/71 [==============================] - 20s 283ms/step - loss: 0.3276 - accuracy: 0.8224\n",
      "Epoch 5/10\n",
      "71/71 [==============================] - 20s 281ms/step - loss: 0.3076 - accuracy: 0.8324\n",
      "Epoch 6/10\n",
      "71/71 [==============================] - 20s 279ms/step - loss: 0.2876 - accuracy: 0.8421\n",
      "Epoch 7/10\n",
      "71/71 [==============================] - 19s 271ms/step - loss: 0.2543 - accuracy: 0.8552\n",
      "Epoch 8/10\n",
      "71/71 [==============================] - 18s 260ms/step - loss: 0.2034 - accuracy: 0.8677\n",
      "Epoch 9/10\n",
      "71/71 [==============================] - 17s 246ms/step - loss: 0.1962 - accuracy: 0.8756\n",
      "Epoch 10/10\n",
      "71/71 [==============================] - 19s 261ms/step - loss: 0.1592 - accuracy: 0.8898\n",
      "36/36 [==============================] - 3s 66ms/step - loss: 0.1895 - accuracy: 0.8756\n",
      "LSTM Model Accuracy: 0.8763251304626465\n",
      "\n"
     ]
    }
   ],
   "source": [
    "# print accuracy\n",
    "print('LSTM Model Accuracy:', accuracy)"
   ]
  },
  {
   "cell_type": "markdown",
   "id": "63578155-9181-4642-ac70-17a5eb2b401a",
   "metadata": {
    "id": "63578155-9181-4642-ac70-17a5eb2b401a"
   },
   "source": [
    "### Save trained model"
   ]
  },
  {
   "cell_type": "code",
   "execution_count": null,
   "id": "f0316b14-5346-4459-bd4e-e4580d6c9d6e",
   "metadata": {
    "colab": {
     "base_uri": "https://localhost:8080/"
    },
    "id": "f0316b14-5346-4459-bd4e-e4580d6c9d6e",
    "outputId": "83d25c3c-432a-47bf-fcc1-061aa6e0c382"
   },
   "outputs": [
    {
     "name": "stdout",
     "output_type": "stream",
     "text": [
      "Model saved successfully as spam_email_model.h5\n"
     ]
    }
   ],
   "source": [
    "import joblib\n",
    "\n",
    "model_filename = 'models/spam_email_model.h5'\n",
    "\n",
    "joblib.dump(model, model_filename)\n",
    "\n",
    "print(\"Model saved successfully as\", model_filename)"
   ]
  },
  {
   "cell_type": "markdown",
   "id": "8fe85424-09f9-4266-8ade-06c682a59faf",
   "metadata": {
    "id": "8fe85424-09f9-4266-8ade-06c682a59faf"
   },
   "source": [
    "### Testing on script"
   ]
  },
  {
   "cell_type": "markdown",
   "id": "c26212e6-8622-4be5-b115-6f97c3d3283e",
   "metadata": {
    "id": "c26212e6-8622-4be5-b115-6f97c3d3283e"
   },
   "source": [
    "##### Now i testing the model on email from my own spam box  "
   ]
  },
  {
   "cell_type": "code",
   "execution_count": 32,
   "id": "QeuxLAnbL8G2",
   "metadata": {
    "colab": {
     "base_uri": "https://localhost:8080/"
    },
    "id": "QeuxLAnbL8G2",
    "outputId": "5f3e806d-078e-49b7-e569-c8ccc5274021"
   },
   "outputs": [
    {
     "name": "stdout",
     "output_type": "stream",
     "text": [
      "1/1 [==============================] - 0s 467ms/step\n",
      "The text is predicted to be spam.\n"
     ]
    }
   ],
   "source": [
    "import pickle\n",
    "from tensorflow.keras.preprocessing.sequence import pad_sequences\n",
    "\n",
    "# Load the trained model\n",
    "with open('spam_email_model.pkl', 'rb') as model_file:\n",
    "    model = pickle.load(model_file)\n",
    "\n",
    "# Text to be tested\n",
    "text = \"Subject: Keep an eye out for more contests \"\n",
    "\n",
    "# Tokenize the text\n",
    "encoded_text = tokenizer.texts_to_sequences([text])\n",
    "padded_text = pad_sequences(encoded_text, maxlen=max_length, padding='post')\n",
    "\n",
    "# Predict using the model\n",
    "prediction = model.predict(padded_text)\n",
    "\n",
    "# Print the prediction result\n",
    "if prediction > 0.5:\n",
    "    print(\"The text is predicted to be spam.\")\n",
    "else:\n",
    "    print(\"The text is predicted not to be spam.\")"
   ]
  },
  {
   "cell_type": "markdown",
   "id": "6e5fffff-c6fc-48d2-bc99-c8a4d579d976",
   "metadata": {},
   "source": [
    "## Both models accuracy"
   ]
  },
  {
   "cell_type": "markdown",
   "id": "d9f3440e-508f-49ec-8f55-ee0f74127c47",
   "metadata": {},
   "source": [
    "#### Multinomial Naive Bayes => Accuracy: 0.9779151943462897"
   ]
  },
  {
   "cell_type": "markdown",
   "id": "d5ffdac4-f0b5-4b55-ba6f-c3eab18d3e97",
   "metadata": {},
   "source": [
    "#### LSTM Neural Network => Accuracy: 0.8763251304626465"
   ]
  },
  {
   "cell_type": "code",
   "execution_count": null,
   "id": "bd026047-18ca-4887-9b30-281bb4da64c9",
   "metadata": {},
   "outputs": [],
   "source": []
  }
 ],
 "metadata": {
  "accelerator": "GPU",
  "colab": {
   "gpuType": "T4",
   "provenance": []
  },
  "kernelspec": {
   "display_name": "Python 3 (ipykernel)",
   "language": "python",
   "name": "python3"
  },
  "language_info": {
   "codemirror_mode": {
    "name": "ipython",
    "version": 3
   },
   "file_extension": ".py",
   "mimetype": "text/x-python",
   "name": "python",
   "nbconvert_exporter": "python",
   "pygments_lexer": "ipython3",
   "version": "3.11.7"
  }
 },
 "nbformat": 4,
 "nbformat_minor": 5
}
